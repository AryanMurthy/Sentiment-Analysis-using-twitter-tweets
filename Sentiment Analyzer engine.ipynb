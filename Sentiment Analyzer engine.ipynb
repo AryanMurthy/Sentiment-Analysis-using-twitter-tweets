{
 "cells": [
  {
   "cell_type": "markdown",
   "metadata": {},
   "source": [
    "# Importing important libraries"
   ]
  },
  {
   "cell_type": "code",
   "execution_count": 62,
   "metadata": {},
   "outputs": [],
   "source": [
    "import tweepy,re\n",
    "from textblob import TextBlob #used in processing textualized data and finding sentiment of the tweets.\n",
    "import matplotlib.pyplot as plt #to visualize the data\n",
    "import pandas as pd\n",
    "from nltk.tokenize import word_tokenize \n",
    "from nltk.stem import WordNetLemmatizer #this library is used in lemmatization process to convert the words into its base form\n",
    "from nltk.corpus import stopwords #to remove stopwords such 'as the, he, she, it' and make the sentence understandable to the machine."
   ]
  },
  {
   "cell_type": "markdown",
   "metadata": {},
   "source": [
    "# Authentication for gaining access to tweets data using twitter API"
   ]
  },
  {
   "cell_type": "code",
   "execution_count": 63,
   "metadata": {},
   "outputs": [],
   "source": [
    "#A twitter developer's account is needed for generating the credentials as mentioned below. To create a developers account, the user should have an existing twitter account.\n",
    "# authentication\n",
    "consumerKey = 'KhocKucswsDBocThtJejLpwsP'\n",
    "consumerSecret = 'Koen5rkYmrrMINVHwqTXKIeGeSvwmpxNQcy2CiTKixgNKprx3I'\n",
    "accessToken = '1386718586652213256-8DoxOYGWcDsIaBjMwCZIN7Hf3bYNOa'\n",
    "accessTokenSecret = 'kxlwH0OWvnI1z723lawhvUhp29LyFAnfpasx3kwckV9Zq'\n",
    "auth = tweepy.OAuthHandler(consumerKey, consumerSecret)\n",
    "auth.set_access_token(accessToken, accessTokenSecret)\n",
    "api = tweepy.API(auth) "
   ]
  },
  {
   "cell_type": "code",
   "execution_count": 64,
   "metadata": {},
   "outputs": [
    {
     "name": "stdout",
     "output_type": "stream",
     "text": [
      "Enter Keyword/Tag to search about: barack obama\n",
      "Enter how many tweets to search: 70\n"
     ]
    }
   ],
   "source": [
    "# input for term to be searched and how many tweets to search\n",
    "searchTerm = input(\"Enter Keyword/Tag to search about: \")\n",
    "NoOfTerms = int(input(\"Enter how many tweets to search: \"))\n",
    "\n",
    "tweets = []\n",
    "tweetText = []\n",
    "# searching for tweets\n",
    "tweets = tweepy.Cursor(api.search_tweets, q=searchTerm+\" -filter:retweets\", lang = \"en\").items(NoOfTerms)"
   ]
  },
  {
   "cell_type": "code",
   "execution_count": 65,
   "metadata": {},
   "outputs": [
    {
     "data": {
      "text/html": [
       "<div>\n",
       "<style scoped>\n",
       "    .dataframe tbody tr th:only-of-type {\n",
       "        vertical-align: middle;\n",
       "    }\n",
       "\n",
       "    .dataframe tbody tr th {\n",
       "        vertical-align: top;\n",
       "    }\n",
       "\n",
       "    .dataframe thead th {\n",
       "        text-align: right;\n",
       "    }\n",
       "</style>\n",
       "<table border=\"1\" class=\"dataframe\">\n",
       "  <thead>\n",
       "    <tr style=\"text-align: right;\">\n",
       "      <th></th>\n",
       "      <th>0</th>\n",
       "    </tr>\n",
       "  </thead>\n",
       "  <tbody>\n",
       "    <tr>\n",
       "      <th>0</th>\n",
       "      <td>@RinoRooter @jhaskinscabrera Yeah, the 'world ...</td>\n",
       "    </tr>\n",
       "    <tr>\n",
       "      <th>1</th>\n",
       "      <td>plz subscribe to Barack obama on YouTube!!</td>\n",
       "    </tr>\n",
       "    <tr>\n",
       "      <th>2</th>\n",
       "      <td>A reason why Barack Obama 's past is sealed an...</td>\n",
       "    </tr>\n",
       "    <tr>\n",
       "      <th>3</th>\n",
       "      <td>Money is not the only answer, but it makes a d...</td>\n",
       "    </tr>\n",
       "    <tr>\n",
       "      <th>4</th>\n",
       "      <td>Which world leader was awarded the prestigious...</td>\n",
       "    </tr>\n",
       "    <tr>\n",
       "      <th>...</th>\n",
       "      <td>...</td>\n",
       "    </tr>\n",
       "    <tr>\n",
       "      <th>65</th>\n",
       "      <td>Kevin McCarthy... \"Only two American president...</td>\n",
       "    </tr>\n",
       "    <tr>\n",
       "      <th>66</th>\n",
       "      <td>Barack Obama's Poor Understanding of the Const...</td>\n",
       "    </tr>\n",
       "    <tr>\n",
       "      <th>67</th>\n",
       "      <td>I purchased Author Barack Obama's #APromisedLa...</td>\n",
       "    </tr>\n",
       "    <tr>\n",
       "      <th>68</th>\n",
       "      <td>On page 222 of 767 of A Promised Land, by Bara...</td>\n",
       "    </tr>\n",
       "    <tr>\n",
       "      <th>69</th>\n",
       "      <td>I hang and begin to run but former US Presiden...</td>\n",
       "    </tr>\n",
       "  </tbody>\n",
       "</table>\n",
       "<p>70 rows × 1 columns</p>\n",
       "</div>"
      ],
      "text/plain": [
       "                                                    0\n",
       "0   @RinoRooter @jhaskinscabrera Yeah, the 'world ...\n",
       "1          plz subscribe to Barack obama on YouTube!!\n",
       "2   A reason why Barack Obama 's past is sealed an...\n",
       "3   Money is not the only answer, but it makes a d...\n",
       "4   Which world leader was awarded the prestigious...\n",
       "..                                                ...\n",
       "65  Kevin McCarthy... \"Only two American president...\n",
       "66  Barack Obama's Poor Understanding of the Const...\n",
       "67  I purchased Author Barack Obama's #APromisedLa...\n",
       "68  On page 222 of 767 of A Promised Land, by Bara...\n",
       "69  I hang and begin to run but former US Presiden...\n",
       "\n",
       "[70 rows x 1 columns]"
      ]
     },
     "execution_count": 65,
     "metadata": {},
     "output_type": "execute_result"
    }
   ],
   "source": [
    "tweet_list = [tweet.text for tweet in tweets]\n",
    "tweet_df = pd.DataFrame(tweet_list)\n",
    "tweet_df"
   ]
  },
  {
   "cell_type": "markdown",
   "metadata": {},
   "source": [
    "# Cleaning the Data obtained "
   ]
  },
  {
   "cell_type": "code",
   "execution_count": 41,
   "metadata": {},
   "outputs": [],
   "source": [
    "def clean_data(text):\n",
    "    return ' '.join(re.sub(\"(@[a-zA-Z0-9]+)|([^0-9A-Za-z])|(https://[\\w.]+/[\\w]+)\", \" \", text).split())\n",
    "\n",
    "tweet_df['cleaned_data'] = tweet_df[0].apply(clean_data)"
   ]
  },
  {
   "cell_type": "code",
   "execution_count": 42,
   "metadata": {},
   "outputs": [
    {
     "data": {
      "text/html": [
       "<div>\n",
       "<style scoped>\n",
       "    .dataframe tbody tr th:only-of-type {\n",
       "        vertical-align: middle;\n",
       "    }\n",
       "\n",
       "    .dataframe tbody tr th {\n",
       "        vertical-align: top;\n",
       "    }\n",
       "\n",
       "    .dataframe thead th {\n",
       "        text-align: right;\n",
       "    }\n",
       "</style>\n",
       "<table border=\"1\" class=\"dataframe\">\n",
       "  <thead>\n",
       "    <tr style=\"text-align: right;\">\n",
       "      <th></th>\n",
       "      <th>0</th>\n",
       "      <th>cleaned_data</th>\n",
       "    </tr>\n",
       "  </thead>\n",
       "  <tbody>\n",
       "    <tr>\n",
       "      <th>0</th>\n",
       "      <td>He has already started historical awareness po...</td>\n",
       "      <td>He has already started historical awareness po...</td>\n",
       "    </tr>\n",
       "    <tr>\n",
       "      <th>1</th>\n",
       "      <td>@CaptainAbhi_IND @therajputgaurav @twitspacetw...</td>\n",
       "      <td>IND than why some folks are disturbing them to...</td>\n",
       "    </tr>\n",
       "    <tr>\n",
       "      <th>2</th>\n",
       "      <td>@Abdulmajeedbnr @yogirajshakya BTW India is a ...</td>\n",
       "      <td>BTW India is a secular country bro where you c...</td>\n",
       "    </tr>\n",
       "    <tr>\n",
       "      <th>3</th>\n",
       "      <td>@Aharyanvi1 I don't know why some people remem...</td>\n",
       "      <td>I don t know why some people remembers muslims...</td>\n",
       "    </tr>\n",
       "    <tr>\n",
       "      <th>4</th>\n",
       "      <td>@Dahiy2Dharamvir @AriebAamna @samar11 @Aakar__...</td>\n",
       "      <td>Patel This is not true Absolutely wrong statem...</td>\n",
       "    </tr>\n",
       "  </tbody>\n",
       "</table>\n",
       "</div>"
      ],
      "text/plain": [
       "                                                   0  \\\n",
       "0  He has already started historical awareness po...   \n",
       "1  @CaptainAbhi_IND @therajputgaurav @twitspacetw...   \n",
       "2  @Abdulmajeedbnr @yogirajshakya BTW India is a ...   \n",
       "3  @Aharyanvi1 I don't know why some people remem...   \n",
       "4  @Dahiy2Dharamvir @AriebAamna @samar11 @Aakar__...   \n",
       "\n",
       "                                        cleaned_data  \n",
       "0  He has already started historical awareness po...  \n",
       "1  IND than why some folks are disturbing them to...  \n",
       "2  BTW India is a secular country bro where you c...  \n",
       "3  I don t know why some people remembers muslims...  \n",
       "4  Patel This is not true Absolutely wrong statem...  "
      ]
     },
     "execution_count": 42,
     "metadata": {},
     "output_type": "execute_result"
    }
   ],
   "source": [
    "tweet_df.head()"
   ]
  },
  {
   "cell_type": "code",
   "execution_count": 43,
   "metadata": {},
   "outputs": [],
   "source": [
    "def drop_numbers(list_text):\n",
    "    list_text_new = []\n",
    "    for i in list_text:\n",
    "        if not re.search('\\d', i):\n",
    "            list_text_new.append(i)\n",
    "    return ''.join(list_text_new)\n",
    "\n",
    "tweet_df['cleaned_data'] = tweet_df['cleaned_data'].apply(drop_numbers)"
   ]
  },
  {
   "cell_type": "code",
   "execution_count": 44,
   "metadata": {},
   "outputs": [
    {
     "data": {
      "text/html": [
       "<div>\n",
       "<style scoped>\n",
       "    .dataframe tbody tr th:only-of-type {\n",
       "        vertical-align: middle;\n",
       "    }\n",
       "\n",
       "    .dataframe tbody tr th {\n",
       "        vertical-align: top;\n",
       "    }\n",
       "\n",
       "    .dataframe thead th {\n",
       "        text-align: right;\n",
       "    }\n",
       "</style>\n",
       "<table border=\"1\" class=\"dataframe\">\n",
       "  <thead>\n",
       "    <tr style=\"text-align: right;\">\n",
       "      <th></th>\n",
       "      <th>0</th>\n",
       "      <th>cleaned_data</th>\n",
       "    </tr>\n",
       "  </thead>\n",
       "  <tbody>\n",
       "    <tr>\n",
       "      <th>0</th>\n",
       "      <td>He has already started historical awareness po...</td>\n",
       "      <td>He has already started historical awareness po...</td>\n",
       "    </tr>\n",
       "    <tr>\n",
       "      <th>1</th>\n",
       "      <td>@CaptainAbhi_IND @therajputgaurav @twitspacetw...</td>\n",
       "      <td>IND than why some folks are disturbing them to...</td>\n",
       "    </tr>\n",
       "    <tr>\n",
       "      <th>2</th>\n",
       "      <td>@Abdulmajeedbnr @yogirajshakya BTW India is a ...</td>\n",
       "      <td>BTW India is a secular country bro where you c...</td>\n",
       "    </tr>\n",
       "    <tr>\n",
       "      <th>3</th>\n",
       "      <td>@Aharyanvi1 I don't know why some people remem...</td>\n",
       "      <td>I don t know why some people remembers muslims...</td>\n",
       "    </tr>\n",
       "    <tr>\n",
       "      <th>4</th>\n",
       "      <td>@Dahiy2Dharamvir @AriebAamna @samar11 @Aakar__...</td>\n",
       "      <td>Patel This is not true Absolutely wrong statem...</td>\n",
       "    </tr>\n",
       "  </tbody>\n",
       "</table>\n",
       "</div>"
      ],
      "text/plain": [
       "                                                   0  \\\n",
       "0  He has already started historical awareness po...   \n",
       "1  @CaptainAbhi_IND @therajputgaurav @twitspacetw...   \n",
       "2  @Abdulmajeedbnr @yogirajshakya BTW India is a ...   \n",
       "3  @Aharyanvi1 I don't know why some people remem...   \n",
       "4  @Dahiy2Dharamvir @AriebAamna @samar11 @Aakar__...   \n",
       "\n",
       "                                        cleaned_data  \n",
       "0  He has already started historical awareness po...  \n",
       "1  IND than why some folks are disturbing them to...  \n",
       "2  BTW India is a secular country bro where you c...  \n",
       "3  I don t know why some people remembers muslims...  \n",
       "4  Patel This is not true Absolutely wrong statem...  "
      ]
     },
     "execution_count": 44,
     "metadata": {},
     "output_type": "execute_result"
    }
   ],
   "source": [
    "tweet_df.head()"
   ]
  },
  {
   "cell_type": "code",
   "execution_count": 45,
   "metadata": {},
   "outputs": [
    {
     "name": "stderr",
     "output_type": "stream",
     "text": [
      "[nltk_data] Downloading package punkt to\n",
      "[nltk_data]     C:\\Users\\ARYAN\\AppData\\Roaming\\nltk_data...\n",
      "[nltk_data]   Package punkt is already up-to-date!\n"
     ]
    }
   ],
   "source": [
    "# changing all the words of the reviews column to lowercase letters\n",
    "import nltk\n",
    "nltk.download('punkt')\n",
    "def lower_case(text):\n",
    "    text_words = word_tokenize(text)\n",
    "    text_words_lower = [x.lower() for x in text_words]\n",
    "    return ' '.join(text_words_lower)\n",
    "\n",
    "tweet_df['cleaned_data'] = tweet_df['cleaned_data'].apply(lower_case)"
   ]
  },
  {
   "cell_type": "code",
   "execution_count": 46,
   "metadata": {},
   "outputs": [
    {
     "name": "stderr",
     "output_type": "stream",
     "text": [
      "[nltk_data] Downloading package wordnet to\n",
      "[nltk_data]     C:\\Users\\ARYAN\\AppData\\Roaming\\nltk_data...\n",
      "[nltk_data]   Package wordnet is already up-to-date!\n"
     ]
    },
    {
     "data": {
      "text/plain": [
       "True"
      ]
     },
     "execution_count": 46,
     "metadata": {},
     "output_type": "execute_result"
    }
   ],
   "source": [
    "import nltk\n",
    "nltk.download('wordnet')"
   ]
  },
  {
   "cell_type": "code",
   "execution_count": 47,
   "metadata": {},
   "outputs": [],
   "source": [
    "lemmatizer = WordNetLemmatizer()\n",
    "def lemmatise(text):\n",
    "    text_tokens = word_tokenize(text)\n",
    "    text_lemm = [lemmatizer.lemmatize(word) for word in text_tokens]\n",
    "    return ' '.join(text_lemm)\n",
    "\n",
    "tweet_df['cleaned_data'] = tweet_df['cleaned_data'].apply(lemmatise)"
   ]
  },
  {
   "cell_type": "code",
   "execution_count": 48,
   "metadata": {},
   "outputs": [
    {
     "data": {
      "text/plain": [
       "array(['he ha already started historical awareness politics on few topic like bhagat singh ambedkar recently ganesh cha',\n",
       "       'ind than why some folk are disturbing them to offer the',\n",
       "       'btw india is a secular country bro where you can offer your prayer any person in t',\n",
       "       'i don t know why some people remembers muslim always for nonveg or loud speaker we hindu eat non v',\n",
       "       'patel this is not true absolutely wrong statement your source of in',\n",
       "       'nobody chant satanic terrorizing rant during ganesh chaturthi so st',\n",
       "       'ind a we celebrate ganesh chaturthi and navaratri for day blocking road similarly y',\n",
       "       'street procession is a different thing and sorry to break exaggeration it can not be done d',\n",
       "       'sayema will also not acknowledge all the incident of puja pandals temple who have happily accepted namaz all thes',\n",
       "       'ganesh chaturthi janmastami holi ramayan amp mahabharat katha time this are the example',\n",
       "       'maurya it is not a matter that is any other practicing their religion on road or not every',\n",
       "       'ind ganesh chaturthi wa started by bal gangadhar tilak to promote nationalism towards ci',\n",
       "       'ind we use road for ganesh chaturthi and dasara for week and if our fellow indian do the namaz we will',\n",
       "       'ganesh chaturthi classic bhog recipe to offer to lord ganesha ganesh chaturthi recipe it is believed th',\n",
       "       'mere mu lim neighbor har friday ko ya toh masjid me ya fir ghar me nam z ada karte hai so',\n",
       "       'haha most rubbish explanation could have just said majority community will do a they wish day pand',\n",
       "       'i come from an india where procession of ganesh chaturthi celebration of diwali dusshera and durga puja are consid',\n",
       "       'guy ask your m friend to come over for ganesh chaturthi and have prasad you will see how equal we all are',\n",
       "       'ban navratri ganesh chaturthi durga puja jagrans etc',\n",
       "       'sayema waiting for the day when mosque will open door to celebrate janmasthmi and ganesh chaturthi',\n",
       "       'sayema but not yet ganesh chaturthi inside masjid iskon bangladesh organized ifftar party for this kaum regu',\n",
       "       'aiyar yes yes that s the best thing i did not celebrate ganesh cha',\n",
       "       'agree bro fr chahe vo namaz ho muharram ka juloos durga puja',\n",
       "       'actually i have given my indian jersey for cleaning and also my new dress karan wala yellow dress for',\n",
       "       'ohhh i used to do research abt jb much but i never minded the other artist and gagna',\n",
       "       'judicial activism is rampant in every govt decision abrogation farmer s bill cia cracker bursting janmashtam',\n",
       "       'yes we celebrate festival like ganesh chaturthi which includes lord ganesha we also celebrate holi',\n",
       "       'who is aadiganesha special on ganesh utsav know on ganesh chaturthi salvation is not possible by mantra li',\n",
       "       'who is aadiganesha special on ganesh utsav know on ganesh chaturthi salvation is not possible by mantra li',\n",
       "       'who is aadiganesha special on ganesh utsav know on ganesh chaturthi salvation is not possible by mantra li',\n",
       "       'who is aadiganesha special on ganesh utsav know on ganesh chaturthi salvation is not possible by mantra li',\n",
       "       'indian are ready to do ganesh chaturthi in karachi ground infront of islamist',\n",
       "       'muslim hate salman because he celebrate ganesh chaturthi',\n",
       "       'so why doe your sentiment hurt when someone else sell cracker and someone else burst cracker problem is in y',\n",
       "       'godmorningwednesday wednesdaythought special on ganesh utsav know on ganesh chaturthi salvation is',\n",
       "       'court interfere in everything pollution cracker bursting holi celebration ganesh chaturthi festival janmashtam',\n",
       "       'so only on ganesh chaturthi loudspeaker place on every street corner not on other festive season',\n",
       "       'ganesh chaturthi is once a year azaan nuisance is time a day talk some sense',\n",
       "       'two week free run mil sakta hai second half mai don t know about festival release maybe ganesh chaturthi',\n",
       "       'happy ganesh chaturthi',\n",
       "       'prayer take place only for min is tat disturbing the r',\n",
       "       'prayer take place only for min is tat disturbing the r during ganesh chaturthi a',\n",
       "       'ramesh sabanaqvi there is no public place in india where untouchabil',\n",
       "       'azaan take place only for min is tat disturbing the r during ganesh chaturthi and other hindu fe',\n",
       "       'and what about durga pooja and ganesh chaturthi pandals that are set up in the street for',\n",
       "       'hinsight bhardwaj darkdeveloper ganesh chaturthi doesn t happen every day',\n",
       "       'happy ganesh chaturthi',\n",
       "       'bhardwaj darkdeveloper do we make permanent pandal for durga puja or ganesh chaturthi waise',\n",
       "       'ganeshchaturthiwishes wish image sm whatsapp message to share with family and friend indtalk',\n",
       "       'happy ganesh chaturthi'], dtype=object)"
      ]
     },
     "execution_count": 48,
     "metadata": {},
     "output_type": "execute_result"
    }
   ],
   "source": [
    "tweet_df['cleaned_data'].values"
   ]
  },
  {
   "cell_type": "code",
   "execution_count": 49,
   "metadata": {},
   "outputs": [
    {
     "name": "stderr",
     "output_type": "stream",
     "text": [
      "[nltk_data] Downloading package stopwords to\n",
      "[nltk_data]     C:\\Users\\ARYAN\\AppData\\Roaming\\nltk_data...\n",
      "[nltk_data]   Package stopwords is already up-to-date!\n"
     ]
    }
   ],
   "source": [
    "import nltk\n",
    "nltk.download('stopwords')\n",
    "def remove_stopword(text):\n",
    "    text_tokens = word_tokenize(text)\n",
    "    tokens = [word for word in text_tokens if not word in set(stopwords.words('english'))]\n",
    "    tokens_text = ' '.join(tokens)\n",
    "    return tokens_text\n",
    "\n",
    "tweet_df['cleaned_data'] = tweet_df['cleaned_data'].apply(remove_stopword)"
   ]
  },
  {
   "cell_type": "code",
   "execution_count": 50,
   "metadata": {},
   "outputs": [
    {
     "data": {
      "text/plain": [
       "array(['ha already started historical awareness politics topic like bhagat singh ambedkar recently ganesh cha',\n",
       "       'ind folk disturbing offer',\n",
       "       'btw india secular country bro offer prayer person',\n",
       "       'know people remembers muslim always nonveg loud speaker hindu eat non v',\n",
       "       'patel true absolutely wrong statement source',\n",
       "       'nobody chant satanic terrorizing rant ganesh chaturthi st',\n",
       "       'ind celebrate ganesh chaturthi navaratri day blocking road similarly',\n",
       "       'street procession different thing sorry break exaggeration done',\n",
       "       'sayema also acknowledge incident puja pandals temple happily accepted namaz thes',\n",
       "       'ganesh chaturthi janmastami holi ramayan amp mahabharat katha time example',\n",
       "       'maurya matter practicing religion road every',\n",
       "       'ind ganesh chaturthi wa started bal gangadhar tilak promote nationalism towards ci',\n",
       "       'ind use road ganesh chaturthi dasara week fellow indian namaz',\n",
       "       'ganesh chaturthi classic bhog recipe offer lord ganesha ganesh chaturthi recipe believed th',\n",
       "       'mere mu lim neighbor har friday ko ya toh masjid ya fir ghar nam z ada karte hai',\n",
       "       'haha rubbish explanation could said majority community wish day pand',\n",
       "       'come india procession ganesh chaturthi celebration diwali dusshera durga puja consid',\n",
       "       'guy ask friend come ganesh chaturthi prasad see equal',\n",
       "       'ban navratri ganesh chaturthi durga puja jagrans etc',\n",
       "       'sayema waiting day mosque open door celebrate janmasthmi ganesh chaturthi',\n",
       "       'sayema yet ganesh chaturthi inside masjid iskon bangladesh organized ifftar party kaum regu',\n",
       "       'aiyar yes yes best thing celebrate ganesh cha',\n",
       "       'agree bro fr chahe vo namaz ho muharram ka juloos durga puja',\n",
       "       'actually given indian jersey cleaning also new dress karan wala yellow dress',\n",
       "       'ohhh used research abt jb much never minded artist gagna',\n",
       "       'judicial activism rampant every govt decision abrogation farmer bill cia cracker bursting janmashtam',\n",
       "       'yes celebrate festival like ganesh chaturthi includes lord ganesha also celebrate holi',\n",
       "       'aadiganesha special ganesh utsav know ganesh chaturthi salvation possible mantra li',\n",
       "       'aadiganesha special ganesh utsav know ganesh chaturthi salvation possible mantra li',\n",
       "       'aadiganesha special ganesh utsav know ganesh chaturthi salvation possible mantra li',\n",
       "       'aadiganesha special ganesh utsav know ganesh chaturthi salvation possible mantra li',\n",
       "       'indian ready ganesh chaturthi karachi ground infront islamist',\n",
       "       'muslim hate salman celebrate ganesh chaturthi',\n",
       "       'doe sentiment hurt someone else sell cracker someone else burst cracker problem',\n",
       "       'godmorningwednesday wednesdaythought special ganesh utsav know ganesh chaturthi salvation',\n",
       "       'court interfere everything pollution cracker bursting holi celebration ganesh chaturthi festival janmashtam',\n",
       "       'ganesh chaturthi loudspeaker place every street corner festive season',\n",
       "       'ganesh chaturthi year azaan nuisance time day talk sense',\n",
       "       'two week free run mil sakta hai second half mai know festival release maybe ganesh chaturthi',\n",
       "       'happy ganesh chaturthi', 'prayer take place min tat disturbing r',\n",
       "       'prayer take place min tat disturbing r ganesh chaturthi',\n",
       "       'ramesh sabanaqvi public place india untouchabil',\n",
       "       'azaan take place min tat disturbing r ganesh chaturthi hindu fe',\n",
       "       'durga pooja ganesh chaturthi pandals set street',\n",
       "       'hinsight bhardwaj darkdeveloper ganesh chaturthi happen every day',\n",
       "       'happy ganesh chaturthi',\n",
       "       'bhardwaj darkdeveloper make permanent pandal durga puja ganesh chaturthi waise',\n",
       "       'ganeshchaturthiwishes wish image sm whatsapp message share family friend indtalk',\n",
       "       'happy ganesh chaturthi'], dtype=object)"
      ]
     },
     "execution_count": 50,
     "metadata": {},
     "output_type": "execute_result"
    }
   ],
   "source": [
    "tweet_df['cleaned_data'].values"
   ]
  },
  {
   "cell_type": "markdown",
   "metadata": {},
   "source": [
    "# Creating a Sentiment analyzer engine "
   ]
  },
  {
   "cell_type": "code",
   "execution_count": 51,
   "metadata": {},
   "outputs": [],
   "source": [
    "# Lets calculate the Polarity of the Reviews\n",
    "#Polarity is the expression which determines the sentimental aspect of an opinion. \n",
    "def get_polarity(text):\n",
    "    textblob = TextBlob(str(text))\n",
    "    pol = textblob.sentiment.polarity\n",
    "    if(pol==0):\n",
    "        return \"Neutral\"\n",
    "    elif(pol>0 and pol<=0.3):\n",
    "        return \"Weakly Positive\"\n",
    "    elif(pol>0.3 and pol<=0.6):\n",
    "        return \"Positive\"\n",
    "    elif(pol>0.6 and pol<=1):\n",
    "        return \"Strongly Positive\"\n",
    "    elif(pol>-0.3 and pol<=0):\n",
    "        return \"Weakly Negative\"\n",
    "    elif(pol>-0.6 and pol<=-0.3):\n",
    "        return \"Negative\"\n",
    "    elif(pol>-1 and pol<=-0.6):\n",
    "        return \"Strongly Negative\"\n",
    "    \n",
    "tweet_df['polarity'] = tweet_df['cleaned_data'].apply(get_polarity)"
   ]
  },
  {
   "cell_type": "code",
   "execution_count": 52,
   "metadata": {},
   "outputs": [
    {
     "data": {
      "text/plain": [
       "Neutral              25\n",
       "Weakly Positive      11\n",
       "Negative              5\n",
       "Strongly Positive     5\n",
       "Weakly Negative       2\n",
       "Strongly Negative     1\n",
       "Positive              1\n",
       "Name: polarity, dtype: int64"
      ]
     },
     "execution_count": 52,
     "metadata": {},
     "output_type": "execute_result"
    }
   ],
   "source": [
    "tweet_df['polarity'].value_counts()"
   ]
  },
  {
   "cell_type": "code",
   "execution_count": 53,
   "metadata": {},
   "outputs": [
    {
     "data": {
      "text/plain": [
       "0               object\n",
       "cleaned_data    object\n",
       "polarity        object\n",
       "dtype: object"
      ]
     },
     "execution_count": 53,
     "metadata": {},
     "output_type": "execute_result"
    }
   ],
   "source": [
    "tweet_df.dtypes"
   ]
  },
  {
   "cell_type": "code",
   "execution_count": 55,
   "metadata": {},
   "outputs": [],
   "source": [
    "neutral = 0\n",
    "wpositive = 0\n",
    "spositive = 0\n",
    "positive = 0\n",
    "negative = 0\n",
    "wnegative = 0\n",
    "snegative = 0\n",
    "polarity = 0\n",
    "\n",
    "for i in range(0,50): #make sure to change the range according to the number of tweets taken in consideration.\n",
    "    textblob = TextBlob(str(tweet_df['cleaned_data'][i]))\n",
    "    polarity+= textblob.sentiment.polarity\n",
    "    pol = textblob.sentiment.polarity\n",
    "    if (pol == 0):  # adding reaction of how people are reacting to find average later\n",
    "        neutral += 1\n",
    "    elif (pol > 0 and pol <= 0.3):\n",
    "        wpositive += 1\n",
    "    elif (pol > 0.3 and pol <= 0.6):\n",
    "        positive += 1\n",
    "    elif (pol > 0.6 and pol <= 1):\n",
    "        spositive += 1\n",
    "    elif (pol > -0.3 and pol <= 0):\n",
    "        wnegative += 1\n",
    "    elif (pol > -0.6 and pol <= -0.3):\n",
    "        negative += 1\n",
    "    elif (pol > -1 and pol <= -0.6):\n",
    "        snegative += 1\n"
   ]
  },
  {
   "cell_type": "code",
   "execution_count": 56,
   "metadata": {},
   "outputs": [
    {
     "data": {
      "text/plain": [
       "0.052726551226551226"
      ]
     },
     "execution_count": 56,
     "metadata": {},
     "output_type": "execute_result"
    }
   ],
   "source": [
    "# finding average reaction\n",
    "polarity = polarity / NoOfTerms\n",
    "polarity"
   ]
  },
  {
   "cell_type": "code",
   "execution_count": 57,
   "metadata": {},
   "outputs": [],
   "source": [
    "def percentage(part, whole):\n",
    "    temp = 100 * float(part) / float(whole)\n",
    "    return format(temp, '.2f')"
   ]
  },
  {
   "cell_type": "code",
   "execution_count": 58,
   "metadata": {},
   "outputs": [],
   "source": [
    " # finding average of how people are reacting\n",
    "positive = percentage(positive, NoOfTerms)\n",
    "wpositive = percentage(wpositive, NoOfTerms)\n",
    "spositive = percentage(spositive, NoOfTerms)\n",
    "negative = percentage(negative, NoOfTerms)\n",
    "wnegative = percentage(wnegative, NoOfTerms)\n",
    "snegative = percentage(snegative, NoOfTerms)\n",
    "neutral = percentage(neutral, NoOfTerms)\n",
    "\n"
   ]
  },
  {
   "cell_type": "code",
   "execution_count": 59,
   "metadata": {},
   "outputs": [
    {
     "name": "stdout",
     "output_type": "stream",
     "text": [
      "How people are reacting on ganesh chaturthi by analyzing 50 tweets.\n",
      "\n",
      "-----------------------------------------------------------------------------------------\n",
      "\n",
      "General Report: \n",
      "Weakly Positive\n",
      "\n",
      "------------------------------------------------------------------------------------------\n",
      "\n",
      "Detailed Report: \n",
      "2.00% people thought it was positive\n",
      "22.00% people thought it was weakly positive\n",
      "10.00% people thought it was strongly positive\n",
      "10.00% people thought it was negative\n",
      "4.00% people thought it was weakly negative\n",
      "2.00% people thought it was strongly negative\n",
      "50.00% people thought it was neutral\n"
     ]
    }
   ],
   "source": [
    " # printing out data\n",
    "print(\"How people are reacting on \" + searchTerm + \" by analyzing \" + str(NoOfTerms) + \" tweets.\")\n",
    "print()\n",
    "print(\"-----------------------------------------------------------------------------------------\")\n",
    "print()\n",
    "print(\"General Report: \")\n",
    "\n",
    "if (polarity == 0):\n",
    "    print(\"Neutral\")\n",
    "elif (polarity > 0 and polarity <= 0.3):\n",
    "    print(\"Weakly Positive\")\n",
    "elif (polarity > 0.3 and polarity <= 0.6):\n",
    "    print(\"Positive\")\n",
    "elif (polarity > 0.6 and polarity <= 1):\n",
    "    print(\"Strongly Positive\")\n",
    "elif (polarity > -0.3 and polarity <= 0):\n",
    "    print(\"Weakly Negative\")\n",
    "elif (polarity > -0.6 and polarity <= -0.3):\n",
    "    print(\"Negative\")\n",
    "elif (polarity > -1 and polarity <= -0.6):\n",
    "    print(\"Strongly Negative\")\n",
    "\n",
    "print()\n",
    "print(\"------------------------------------------------------------------------------------------\")\n",
    "print()\n",
    "print(\"Detailed Report: \")\n",
    "print(str(positive) + \"% people thought it was positive\")\n",
    "print(str(wpositive) + \"% people thought it was weakly positive\")\n",
    "print(str(spositive) + \"% people thought it was strongly positive\")\n",
    "print(str(negative) + \"% people thought it was negative\")\n",
    "print(str(wnegative) + \"% people thought it was weakly negative\")\n",
    "print(str(snegative) + \"% people thought it was strongly negative\")\n",
    "print(str(neutral) + \"% people thought it was neutral\")"
   ]
  },
  {
   "cell_type": "markdown",
   "metadata": {},
   "source": [
    "# Visualizing the Data"
   ]
  },
  {
   "cell_type": "code",
   "execution_count": 60,
   "metadata": {},
   "outputs": [],
   "source": [
    "sizes = [positive, wpositive, spositive, neutral, negative, wnegative, snegative]\n",
    "colors = ['lightgreen','red','lightsalmon', 'yellowgreen', 'lightyellow','darkred','yellow']\n",
    "labels = ['Positive [' + str(positive) + '%]', 'Weakly Positive [' + str(wpositive) + '%]',\n",
    "          'Strongly Positive [' + str(spositive) + '%]', 'Neutral [' + str(neutral) + '%]',\n",
    "          'Negative [' + str(negative) + '%]', 'Weakly Negative [' + str(wnegative) + '%]', \n",
    "          'Strongly Negative [' + str(snegative) + '%]']"
   ]
  },
  {
   "cell_type": "code",
   "execution_count": 61,
   "metadata": {},
   "outputs": [
    {
     "data": {
      "image/png": "[encoded data removed]",
      "text/plain": [
       "<Figure size 432x288 with 1 Axes>"
      ]
     },
     "metadata": {},
     "output_type": "display_data"
    }
   ],
   "source": [
    "#to visualize our data in the form of pie chart neatly.\n",
    "plt.pie(sizes, labels = labels, colors = colors)\n",
    "plt.legend(labels, loc=\"best\")\n",
    "plt.title('How people are reacting on ' + searchTerm + ' by analyzing ' + str(NoOfTerms) + ' Tweets.')\n",
    "plt.axis('equal')\n",
    "plt.tight_layout()\n",
    "plt.show()"
   ]
  },
  {
   "cell_type": "code",
   "execution_count": null,
   "metadata": {},
   "outputs": [],
   "source": []
  }
 ],
 "metadata": {
  "kernelspec": {
   "display_name": "Python 3",
   "language": "python",
   "name": "python3"
  },
  "language_info": {
   "codemirror_mode": {
    "name": "ipython",
    "version": 3
   },
   "file_extension": ".py",
   "mimetype": "text/x-python",
   "name": "python",
   "nbconvert_exporter": "python",
   "pygments_lexer": "ipython3",
   "version": "3.9.1"
  }
 },
 "nbformat": 4,
 "nbformat_minor": 4
}
